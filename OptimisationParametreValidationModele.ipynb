{
 "cells": [
  {
   "cell_type": "code",
   "execution_count": 1,
   "id": "b51b4d45",
   "metadata": {},
   "outputs": [],
   "source": [
    "# Search for the best model parameters and Cross-validation of the model "
   ]
  },
  {
   "cell_type": "code",
   "execution_count": 2,
   "id": "80f49e0c",
   "metadata": {},
   "outputs": [],
   "source": [
    "# VIII : Search for the best model parameters"
   ]
  },
  {
   "cell_type": "code",
   "execution_count": 3,
   "id": "2b2a570c",
   "metadata": {},
   "outputs": [],
   "source": [
    "# Importing the library\n",
    "\n",
    "# VIII - 1 : Importing of the librairy\n",
    "\n",
    "import numpy as np\n",
    "import pandas as pd\n",
    "import matplotlib.pyplot as plt\n",
    "from time import time\n",
    "from datetime import datetime\n",
    "from keras.models import Sequential, Model,load_model\n",
    "from keras.layers import Dropout,Dense\n",
    "from keras import Input,layers\n",
    "from keras.layers import LSTM, GRU,Bidirectional\n",
    "from keras.layers import Conv1D,MaxPooling1D,GlobalMaxPooling1D\n",
    "from sklearn.metrics import mean_absolute_error, mean_squared_error,r2_score,make_scorer\n",
    "from keras.wrappers.scikit_learn import KerasRegressor\n",
    "from sklearn.preprocessing import MinMaxScaler,StandardScaler\n",
    "from sklearn.model_selection import GridSearchCV,cross_val_score\n",
    "from tensorflow.keras.callbacks import ModelCheckpoint, TensorBoard,EarlyStopping,ReduceLROnPlateau\n",
    "from tensorflow.python.keras.optimizers import TFOptimizer"
   ]
  },
  {
   "cell_type": "code",
   "execution_count": 4,
   "id": "df6351ae",
   "metadata": {},
   "outputs": [],
   "source": [
    "# VIII - 2 : Importing of the dataset"
   ]
  },
  {
   "cell_type": "code",
   "execution_count": 5,
   "id": "58424644",
   "metadata": {},
   "outputs": [],
   "source": [
    "dataset=pd.read_csv(\"https://raw.githubusercontent.com/oreilly-mlsec/book-resources/599669c7124dffb65ea7f6e0b7626df32496b1d6/chapter3/datasets/cpu-utilization/cpu-full-b.csv\", sep=\",\")"
   ]
  },
  {
   "cell_type": "code",
   "execution_count": 6,
   "id": "495c0a30",
   "metadata": {},
   "outputs": [],
   "source": [
    "# VIII - 3: split of data Test & Training\n",
    "\n",
    "#  Size the data Test, Training\n",
    "train_size=int(len(dataset)*.85)\n",
    "test_size=int(len(dataset)*.15)\n",
    "x_trainning,x_testing=dataset.iloc[0:train_size],dataset.iloc[(train_size+1):(train_size+test_size)]"
   ]
  },
  {
   "cell_type": "code",
   "execution_count": 7,
   "id": "173a7bfe",
   "metadata": {},
   "outputs": [],
   "source": [
    "# VIII - 4 : Preparing data for timesteps (lags)\n",
    "\n",
    "def normalisationPreparationDonnee(data,lags):\n",
    "    data=data['cpu'].values\n",
    "    sc = MinMaxScaler(feature_range = (0, 1))\n",
    "    #sc=StandardScaler()\n",
    "    data1= data.reshape(-1,1)\n",
    "    data2 = sc.fit_transform(data1)\n",
    "    def preparation_data():\n",
    "        x_train = []\n",
    "        y_train = []\n",
    "        for i in range(lags,len(data2)):\n",
    "            x_train.append(data2[i-lags:i, 0])\n",
    "            y_train.append(data2[i, 0])\n",
    "        return np.array(x_train), np.array(y_train)\n",
    "    x_train, y_train = preparation_data()\n",
    "    x_train = np.reshape(x_train, (x_train.shape[0], x_train.shape[1], 1))\n",
    "    return x_train, y_train\n"
   ]
  },
  {
   "cell_type": "code",
   "execution_count": 8,
   "id": "13bdc026",
   "metadata": {},
   "outputs": [],
   "source": [
    "# VIII - 5 :Application\n",
    "\n",
    "lags=5\n",
    "\n",
    "x_train, y_train = normalisationPreparationDonnee(x_trainning, lags)\n",
    "x_test, y_test = normalisationPreparationDonnee(x_testing, lags)\n"
   ]
  },
  {
   "cell_type": "code",
   "execution_count": null,
   "id": "f0e100b2",
   "metadata": {},
   "outputs": [],
   "source": []
  },
  {
   "cell_type": "code",
   "execution_count": 9,
   "id": "b9276685",
   "metadata": {},
   "outputs": [],
   "source": [
    "# VIII - 6 : Search for the best model parameters (optimizer,Epochs, batch_size)"
   ]
  },
  {
   "cell_type": "code",
   "execution_count": 10,
   "id": "feccb7e5",
   "metadata": {},
   "outputs": [
    {
     "name": "stdout",
     "output_type": "stream",
     "text": [
      "durée totale est de(Minutes) : 5424.813373406728\n"
     ]
    }
   ],
   "source": [
    "\n",
    "start=time()\n",
    "\n",
    "def build_ConvNet1DBidir_OP_Par(optimizer):\n",
    "    modelConvNet1DBidirectOP = Sequential()\n",
    "    modelConvNet1DBidirectOP.add(Conv1D(128, kernel_size=1,activation='tanh',input_shape=(x_train.shape[1], 1)))\n",
    "    modelConvNet1DBidirectOP.add(Conv1D(100, kernel_size=1,activation='tanh'))\n",
    "    modelConvNet1DBidirectOP.add(MaxPooling1D(pool_size=3,strides=1,padding='same'))\n",
    "    modelConvNet1DBidirectOP.add(Conv1D(100, kernel_size=1,activation='tanh'))\n",
    "    modelConvNet1DBidirectOP.add(Conv1D(128, kernel_size=1,activation='tanh'))\n",
    "    modelConvNet1DBidirectOP.add(Bidirectional(LSTM(units = 128, return_sequences = True)))\n",
    "    modelConvNet1DBidirectOP.add(Bidirectional(LSTM(units = 100,return_sequences = True)))\n",
    "    modelConvNet1DBidirectOP.add(Bidirectional(LSTM(units = 64,return_sequences = True)))\n",
    "    modelConvNet1DBidirectOP.add(Bidirectional(LSTM(units = 32,return_sequences = True)))\n",
    "    modelConvNet1DBidirectOP.add(Bidirectional(LSTM(units = 64,return_sequences = True)))\n",
    "    modelConvNet1DBidirectOP.add(Bidirectional(LSTM(units = 100,return_sequences = True)))\n",
    "    modelConvNet1DBidirectOP.add(Bidirectional(LSTM(units = 128)))\n",
    "    modelConvNet1DBidirectOP.add(Dense(units = 1))\n",
    "    modelConvNet1DBidirectOP.compile(loss = 'mean_squared_error',\n",
    "                      metrics=['acc'])     \n",
    "    return modelConvNet1DBidirectOP\n",
    "\n",
    "model=KerasRegressor(build_fn=build_ConvNet1DBidir_OP_Par,verbose=0)\n",
    "parameters={\"optimizer\":['adam','rmsprop'],\n",
    "            \"epochs\":[150,300,500],\n",
    "            \"batch_size\":[1,5,10]\n",
    "            }\n",
    "\n",
    "grid_search=GridSearchCV(estimator=model , param_grid=parameters, scoring=make_scorer(mean_squared_error))\n",
    "\n",
    "grid_search=grid_search.fit(x_train,y_train)\n",
    "\n",
    "best_parameters=grid_search.best_params_\n",
    "best_score=grid_search.best_score_\n",
    "\n",
    "elapsed=time()-start\n",
    "print('durée totale est de(Minutes) :',elapsed/60)"
   ]
  },
  {
   "cell_type": "code",
   "execution_count": 13,
   "id": "8ceee3b2",
   "metadata": {},
   "outputs": [
    {
     "name": "stdout",
     "output_type": "stream",
     "text": [
      "durée totale est de(Minutes):5424.813373406728 en Heures:90.41355622344547\n"
     ]
    }
   ],
   "source": [
    "print('durée totale est de(Minutes):{} en Heures:{}'.format(elapsed/60,elapsed/3600))"
   ]
  },
  {
   "cell_type": "code",
   "execution_count": 14,
   "id": "4f95f918",
   "metadata": {},
   "outputs": [
    {
     "name": "stdout",
     "output_type": "stream",
     "text": [
      " meilleur score: 0.009067830002877756\n"
     ]
    }
   ],
   "source": [
    "print(\" meilleur score:\",best_score)"
   ]
  },
  {
   "cell_type": "code",
   "execution_count": 15,
   "id": "8166a320",
   "metadata": {},
   "outputs": [
    {
     "name": "stdout",
     "output_type": "stream",
     "text": [
      " meilleurs parametres: {'batch_size': 1, 'epochs': 300, 'optimizer': 'adam'}\n"
     ]
    }
   ],
   "source": [
    "print(\" meilleurs parametres:\",best_parameters)"
   ]
  },
  {
   "cell_type": "code",
   "execution_count": 16,
   "id": "a03e4a0b",
   "metadata": {},
   "outputs": [],
   "source": [
    "# IX : Cross-validation of the model "
   ]
  },
  {
   "cell_type": "code",
   "execution_count": 18,
   "id": "dee7744f",
   "metadata": {},
   "outputs": [
    {
     "name": "stdout",
     "output_type": "stream",
     "text": [
      "durée totale est de(Minutes) : 917.5376145005226\n"
     ]
    }
   ],
   "source": [
    "\n",
    "start1=time()\n",
    "\n",
    "def build_ConvNet1DBidir():\n",
    "    modelConvNet1DBidirectOP = Sequential()\n",
    "    modelConvNet1DBidirectOP.add(Conv1D(128, kernel_size=1,activation='tanh',input_shape=(x_train.shape[1], 1)))\n",
    "    modelConvNet1DBidirectOP.add(Conv1D(100, kernel_size=1,activation='tanh'))\n",
    "    modelConvNet1DBidirectOP.add(MaxPooling1D(pool_size=3,strides=1,padding='same'))\n",
    "    modelConvNet1DBidirectOP.add(Conv1D(100, kernel_size=1,activation='tanh'))\n",
    "    modelConvNet1DBidirectOP.add(Conv1D(128, kernel_size=1,activation='tanh'))\n",
    "    modelConvNet1DBidirectOP.add(Bidirectional(LSTM(units = 128, return_sequences = True)))\n",
    "    modelConvNet1DBidirectOP.add(Bidirectional(LSTM(units = 100,return_sequences = True)))\n",
    "    modelConvNet1DBidirectOP.add(Bidirectional(LSTM(units = 64,return_sequences = True)))\n",
    "    modelConvNet1DBidirectOP.add(Bidirectional(LSTM(units = 32,return_sequences = True)))\n",
    "    modelConvNet1DBidirectOP.add(Bidirectional(LSTM(units = 64,return_sequences = True)))\n",
    "    modelConvNet1DBidirectOP.add(Bidirectional(LSTM(units = 100,return_sequences = True)))\n",
    "    modelConvNet1DBidirectOP.add(Bidirectional(LSTM(units = 128)))\n",
    "    modelConvNet1DBidirectOP.add(Dense(units = 1)) \n",
    "    modelConvNet1DBidirectOP.compile(optimizer = 'adam', loss = 'mean_squared_error',\n",
    "                      metrics=['acc'])     \n",
    "    return modelConvNet1DBidirectOP\n",
    "\n",
    "regressoroptimiser=KerasRegressor(build_fn=build_ConvNet1DBidir,batch_size=1,epochs=300,verbose=0)\n",
    "\n",
    "precision=cross_val_score(estimator=regressoroptimiser,X=x_train,y=y_train,cv=10)\n",
    "elapsedRf=time()-start1\n",
    "print('durée totale est de(Minutes) :',elapsedRf/60)\n"
   ]
  },
  {
   "cell_type": "code",
   "execution_count": 19,
   "id": "fc1205e3",
   "metadata": {},
   "outputs": [
    {
     "name": "stdout",
     "output_type": "stream",
     "text": [
      "durée totale est de(Minutes):917.5376145005226 en Heures:15.29229357500871\n"
     ]
    }
   ],
   "source": [
    "print('durée totale est de(Minutes):{} en Heures:{}'.format(elapsedRf/60,elapsedRf/3600))"
   ]
  },
  {
   "cell_type": "code",
   "execution_count": 20,
   "id": "42a5395a",
   "metadata": {},
   "outputs": [
    {
     "name": "stdout",
     "output_type": "stream",
     "text": [
      "precision: [-0.00198383 -0.00791511 -0.0027223  -0.00127957 -0.01119256 -0.00157717\n",
      " -0.0146869  -0.01365281 -0.00237978 -0.00796536]\n"
     ]
    }
   ],
   "source": [
    "print('precision:',precision)"
   ]
  },
  {
   "cell_type": "code",
   "execution_count": 21,
   "id": "cd571517",
   "metadata": {},
   "outputs": [
    {
     "name": "stdout",
     "output_type": "stream",
     "text": [
      "Moyenne:-0.006535538984462619 et Ecart-type :0.004974691313703372\n"
     ]
    }
   ],
   "source": [
    "print('Moyenne:{} et Ecart-type :{}'.format(precision.mean(),precision.std()))"
   ]
  },
  {
   "cell_type": "code",
   "execution_count": 23,
   "id": "4cb97d18",
   "metadata": {},
   "outputs": [
    {
     "data": {
      "image/png": "[encoded data removed]",
      "text/plain": [
       "<Figure size 1296x504 with 1 Axes>"
      ]
     },
     "metadata": {
      "needs_background": "light"
     },
     "output_type": "display_data"
    }
   ],
   "source": [
    "# Graphique des performances du modèle par validation croisée\n",
    "plt.figure(figsize=(18,7))\n",
    "plt.plot(precision, color = 'blue',\n",
    "         label = 'Performance MSE du Modèle hybride(convNet1D + LSTM-Bidir.)')\n",
    "plt.text(1.8,-0.008,'$\\mu=%.4f,\\\\sigma=%.4f$'%(precision.mean(),precision.std()))\n",
    "plt.title('Performance(MSE) Modèle Hybride(ConvNet1D + LSTM-BIDIRECTIONNEL) par validation croisée')\n",
    "plt.xlabel('10-folds')\n",
    "plt.ylabel('MSE')\n",
    "plt.legend()\n",
    "plt.show()"
   ]
  },
  {
   "cell_type": "code",
   "execution_count": null,
   "id": "9a07046e",
   "metadata": {},
   "outputs": [],
   "source": [
    "  "
   ]
  },
  {
   "cell_type": "code",
   "execution_count": null,
   "id": "be9a43cc",
   "metadata": {},
   "outputs": [],
   "source": []
  }
 ],
 "metadata": {
  "kernelspec": {
   "display_name": "Python 3",
   "language": "python",
   "name": "python3"
  }
 },
 "nbformat": 4,
 "nbformat_minor": 5
}
